{
 "cells": [
  {
   "cell_type": "code",
   "execution_count": 1,
   "metadata": {},
   "outputs": [
    {
     "name": "stdout",
     "output_type": "stream",
     "text": [
      "A\n",
      "B\n",
      "C\n",
      "D\n",
      "E\n",
      "F\n",
      "G\n",
      "H\n",
      "I\n",
      "J\n",
      "K\n"
     ]
    }
   ],
   "source": [
    "for letter in 'ABCDEFGHIJK':\n",
    "    print (letter)"
   ]
  },
  {
   "cell_type": "markdown",
   "metadata": {},
   "source": [
    ".\n",
    "..\n",
    "...\n",
    "....\n",
    ".....\n",
    "......"
   ]
  },
  {
   "cell_type": "code",
   "execution_count": 6,
   "metadata": {},
   "outputs": [
    {
     "name": "stdout",
     "output_type": "stream",
     "text": [
      ". .\n"
     ]
    }
   ],
   "source": [
    "for period in '.':\n",
    "    print(period)"
   ]
  },
  {
   "cell_type": "code",
   "execution_count": 12,
   "metadata": {},
   "outputs": [
    {
     "name": "stdout",
     "output_type": "stream",
     "text": [
      ".\n",
      "..\n",
      "...\n",
      "....\n",
      ".....\n"
     ]
    }
   ],
   "source": [
    "for line in [1,2,3,4,5]:\n",
    "    print(line*'.')"
   ]
  },
  {
   "cell_type": "code",
   "execution_count": 13,
   "metadata": {},
   "outputs": [
    {
     "name": "stdout",
     "output_type": "stream",
     "text": [
      "10\n",
      "1010\n",
      "101010\n",
      "10101010\n",
      "1010101010\n"
     ]
    }
   ],
   "source": [
    "for line in [1,2,3,4,5]:\n",
    "    print(line*'10')"
   ]
  },
  {
   "cell_type": "code",
   "execution_count": 14,
   "metadata": {},
   "outputs": [
    {
     "name": "stdout",
     "output_type": "stream",
     "text": [
      "10\n",
      "20\n",
      "30\n",
      "40\n",
      "50\n"
     ]
    }
   ],
   "source": [
    "for line in [1,2,3,4,5]:\n",
    "    print(line*10)"
   ]
  },
  {
   "cell_type": "markdown",
   "metadata": {},
   "source": [
    "Now lets get to opening files"
   ]
  },
  {
   "cell_type": "code",
   "execution_count": 15,
   "metadata": {},
   "outputs": [
    {
     "name": "stdout",
     "output_type": "stream",
     "text": [
      "@SRR098032.1.1 HWI-EAS216:4:1:0:1752 length=36\n",
      "\n",
      "TAACGGTTATTCTGCGGTTGAGATTGTTGGGGCNGC\n",
      "\n",
      "+SRR098032.1.1 HWI-EAS216:4:1:0:1752 length=36\n",
      "\n",
      "B@<:?<>=;?>8</7<83<66559<44:898/%!%=\n",
      "\n",
      "@SRR098032.2.1 HWI-EAS216:4:1:0:963 length=36\n",
      "\n",
      "AGAGACATTGCCAAAGTAATTGCCAGAACAGGCNCG\n",
      "\n",
      "+SRR098032.2.1 HWI-EAS216:4:1:0:963 length=36\n",
      "\n",
      "A??49B@@@<;?;AB?;?<>>8::B9@@?7)*8!-.\n",
      "\n",
      "@SRR098032.3.1 HWI-EAS216:4:1:0:554 length=36\n",
      "\n",
      "CGCTGGCAAAGGGAAACCCGTCGCACAGCAAACNCG\n",
      "\n",
      "+SRR098032.3.1 HWI-EAS216:4:1:0:554 length=36\n",
      "\n",
      ">9;<76:BA?;68:A@>>888767?><6:<4&:!%,\n",
      "\n",
      "@SRR098032.4.1 HWI-EAS216:4:1:0:1229 length=36\n",
      "\n",
      "GTCGGCCTGCGCGGAAGATGTAACGGGGCTATCNCA\n",
      "\n",
      "+SRR098032.4.1 HWI-EAS216:4:1:0:1229 length=36\n",
      "\n",
      ";>A>A:8@;:?;C;A=<<918==><>588=1&/!51\n",
      "\n",
      "@SRR098032.5.1 HWI-EAS216:4:1:0:475 length=36\n",
      "\n",
      "CCTGAATCATAAAGCCGTTGATAACACGGTGGANCC\n",
      "\n",
      "+SRR098032.5.1 HWI-EAS216:4:1:0:475 length=36\n",
      "\n",
      "B@>7<C@:?@=B>5:97<@99@?<<=86;:;-3!+:\n",
      "\n",
      "@SRR098032.6.1 HWI-EAS216:4:1:0:834 length=36\n",
      "\n",
      "TAAAAACCGATCAAAAAGTCGTGACCCTGAGCGNGT\n",
      "\n",
      "+SRR098032.6.1 HWI-EAS216:4:1:0:834 length=36\n",
      "\n",
      "<A:<@7253:7;<<;>AB=?;629885:49/)3!+-\n",
      "\n",
      "@SRR098032.7.1 HWI-EAS216:4:1:0:1203 length=36\n",
      "\n",
      "AGTTCAGGCGGAAACGCTGGAAGCAGCGGGCACNGT\n",
      "\n",
      "+SRR098032.7.1 HWI-EAS216:4:1:0:1203 length=36\n",
      "\n",
      "=><99=:73<9;>87<3=97<984;87:9:<-4!+,\n",
      "\n",
      "@SRR098032.8.1 HWI-EAS216:4:1:0:1123 length=36\n",
      "\n",
      "CGAAGTCATTGATGGAAACATTGTTTTTTCGGGNCC\n",
      "\n",
      "+SRR098032.8.1 HWI-EAS216:4:1:0:1123 length=36\n",
      "\n",
      ">99=8<98B@@;>9;=@=8=B?7<CACB>?:(5!&*\n",
      "\n",
      "@SRR098032.9.1 HWI-EAS216:4:1:0:1642 length=36\n",
      "\n",
      "CACGTTCTTTGCCGGTCTTTGTATTGGTATTCCNCC\n",
      "\n",
      "+SRR098032.9.1 HWI-EAS216:4:1:0:1642 length=36\n",
      "\n",
      "B=8:7;5:=A:984:48=@=636==532?5,+6!,:\n",
      "\n",
      "@SRR098032.10.1 HWI-EAS216:4:1:0:603 length=36\n",
      "\n",
      "CAGTAACGTTGGCCCGATGGTCCGCGCCAGCCGNAC\n",
      "\n",
      "+SRR098032.10.1 HWI-EAS216:4:1:0:603 length=36\n",
      "\n",
      "A=1<@A5%;A9?;@;:=<6526749=8;>8953!(<\n",
      "\n",
      "@SRR098032.11.1 HWI-EAS216:4:1:0:904 length=36\n",
      "\n",
      "GATTTTTTGAAGCAATATGGTGATTTTGAAAATNGC\n",
      "\n",
      "+SRR098032.11.1 HWI-EAS216:4:1:0:904 length=36\n",
      "\n",
      "<ADEEDD?;=@=<<AB@A978:<BDD>9A?4,&!)%\n",
      "\n",
      "@SRR098032.12.1 HWI-EAS216:4:1:0:1572 length=36\n",
      "\n",
      "CTTACTGGAATCGGTGACTACGATGATCCGTGCNGC\n",
      "\n",
      "+SRR098032.12.1 HWI-EAS216:4:1:0:1572 length=36\n",
      "\n",
      "8?C;@==7:=?7:9<879=75<8@885:<=/%:!,A\n",
      "\n",
      "@SRR098032.13.1 HWI-EAS216:4:1:0:1713 length=36\n",
      "\n",
      "TTTTCGCCATTGAGTTGCGTACTGGTGTTGTCTNAC\n",
      "\n"
     ]
    }
   ],
   "source": [
    "with open('data/sample.fastq') as f:\n",
    "    for line in f:\n",
    "        print(line)"
   ]
  },
  {
   "cell_type": "code",
   "execution_count": 16,
   "metadata": {},
   "outputs": [
    {
     "name": "stdout",
     "output_type": "stream",
     "text": [
      "<class 'str'>\n",
      "<class 'str'>\n",
      "<class 'str'>\n",
      "<class 'str'>\n",
      "<class 'str'>\n",
      "<class 'str'>\n",
      "<class 'str'>\n",
      "<class 'str'>\n",
      "<class 'str'>\n",
      "<class 'str'>\n",
      "<class 'str'>\n",
      "<class 'str'>\n",
      "<class 'str'>\n",
      "<class 'str'>\n",
      "<class 'str'>\n",
      "<class 'str'>\n",
      "<class 'str'>\n",
      "<class 'str'>\n",
      "<class 'str'>\n",
      "<class 'str'>\n",
      "<class 'str'>\n",
      "<class 'str'>\n",
      "<class 'str'>\n",
      "<class 'str'>\n",
      "<class 'str'>\n",
      "<class 'str'>\n",
      "<class 'str'>\n",
      "<class 'str'>\n",
      "<class 'str'>\n",
      "<class 'str'>\n",
      "<class 'str'>\n",
      "<class 'str'>\n",
      "<class 'str'>\n",
      "<class 'str'>\n",
      "<class 'str'>\n",
      "<class 'str'>\n",
      "<class 'str'>\n",
      "<class 'str'>\n",
      "<class 'str'>\n",
      "<class 'str'>\n",
      "<class 'str'>\n",
      "<class 'str'>\n",
      "<class 'str'>\n",
      "<class 'str'>\n",
      "<class 'str'>\n",
      "<class 'str'>\n",
      "<class 'str'>\n",
      "<class 'str'>\n",
      "<class 'str'>\n",
      "<class 'str'>\n"
     ]
    }
   ],
   "source": [
    "# Tells us what each thing is. In this case, all lines are strings\n",
    "\n",
    "with open('data/sample.fastq') as f:\n",
    "    for line in f:\n",
    "        print(type(line))"
   ]
  },
  {
   "cell_type": "code",
   "execution_count": 36,
   "metadata": {},
   "outputs": [],
   "source": [
    "a=3"
   ]
  },
  {
   "cell_type": "code",
   "execution_count": 44,
   "metadata": {},
   "outputs": [
    {
     "data": {
      "text/plain": [
       "'HWI-EAS216:4:1:0:1752'"
      ]
     },
     "execution_count": 44,
     "metadata": {},
     "output_type": "execute_result"
    }
   ],
   "source": [
    "list_a=['@SRR098032.1.1', 'HWI-EAS216:4:1:0:1752', 'length=36\\n']\n",
    "type(list_a)\n",
    "len(list_a)\n",
    "list_a[1]"
   ]
  },
  {
   "cell_type": "code",
   "execution_count": 26,
   "metadata": {},
   "outputs": [
    {
     "name": "stdout",
     "output_type": "stream",
     "text": [
      "['@SRR098032.1.1', 'HWI-EAS216:4:1:0:1752', 'length=36\\n']\n",
      "['@SRR098032.2.1', 'HWI-EAS216:4:1:0:963', 'length=36\\n']\n",
      "['@SRR098032.3.1', 'HWI-EAS216:4:1:0:554', 'length=36\\n']\n",
      "['@SRR098032.4.1', 'HWI-EAS216:4:1:0:1229', 'length=36\\n']\n",
      "['@SRR098032.5.1', 'HWI-EAS216:4:1:0:475', 'length=36\\n']\n",
      "['@SRR098032.6.1', 'HWI-EAS216:4:1:0:834', 'length=36\\n']\n",
      "['@SRR098032.7.1', 'HWI-EAS216:4:1:0:1203', 'length=36\\n']\n",
      "['@SRR098032.8.1', 'HWI-EAS216:4:1:0:1123', 'length=36\\n']\n",
      "['@SRR098032.9.1', 'HWI-EAS216:4:1:0:1642', 'length=36\\n']\n",
      "['@SRR098032.10.1', 'HWI-EAS216:4:1:0:603', 'length=36\\n']\n",
      "['@SRR098032.11.1', 'HWI-EAS216:4:1:0:904', 'length=36\\n']\n",
      "['@SRR098032.12.1', 'HWI-EAS216:4:1:0:1572', 'length=36\\n']\n",
      "['@SRR098032.13.1', 'HWI-EAS216:4:1:0:1713', 'length=36\\n']\n"
     ]
    }
   ],
   "source": [
    "# Now to get some metadata extraction going\n",
    "# loads the data an assigns it as \"f\"\n",
    "# open for loop, look for lines starting with character == '@'\n",
    "# split out lines which match the criteria from f, print as output\n",
    "\n",
    "with open('data/sample.fastq') as f:\n",
    "    for line in f:\n",
    "        if line[0] == '@':\n",
    "            print(line.split(' '))"
   ]
  },
  {
   "cell_type": "code",
   "execution_count": 48,
   "metadata": {},
   "outputs": [
    {
     "name": "stdout",
     "output_type": "stream",
     "text": [
      "HWI-EAS216:4:1:0:1752\n",
      "HWI-EAS216:4:1:0:963\n",
      "HWI-EAS216:4:1:0:554\n",
      "HWI-EAS216:4:1:0:1229\n",
      "HWI-EAS216:4:1:0:475\n",
      "HWI-EAS216:4:1:0:834\n",
      "HWI-EAS216:4:1:0:1203\n",
      "HWI-EAS216:4:1:0:1123\n",
      "HWI-EAS216:4:1:0:1642\n",
      "HWI-EAS216:4:1:0:603\n",
      "HWI-EAS216:4:1:0:904\n",
      "HWI-EAS216:4:1:0:1572\n",
      "HWI-EAS216:4:1:0:1713\n"
     ]
    }
   ],
   "source": [
    "# new exercise, extract only this bit:\n",
    "#  'HWI-EAS216:4:1:0:1752'\n",
    "\n",
    "# here we get lines starting with @\n",
    "# output them as a new list ('instrument')\n",
    "# index along 'instrument' to the second column\n",
    "\n",
    "with open('data/sample.fastq') as f:\n",
    "    for line in f:\n",
    "        if line[0] == '@':\n",
    "            metadata = line.split(' ')\n",
    "            instrument = metadata[1]\n",
    "            print(instrument)"
   ]
  },
  {
   "cell_type": "code",
   "execution_count": 51,
   "metadata": {},
   "outputs": [
    {
     "name": "stdout",
     "output_type": "stream",
     "text": [
      "0 1752\n",
      "0 963\n",
      "0 554\n",
      "0 1229\n",
      "0 475\n",
      "0 834\n",
      "0 1203\n",
      "0 1123\n",
      "0 1642\n",
      "0 603\n",
      "0 904\n",
      "0 1572\n",
      "0 1713\n"
     ]
    }
   ],
   "source": [
    "# new exercise, extract only the coordinates:\n",
    "#  0 1752\n",
    "\n",
    "# here we get lines starting with @\n",
    "# output them as a new list ('instrument')\n",
    "# index along 'instrument' to the second column\n",
    "# split 'instrument' at the colon\n",
    "# make two variables with teh correct parts of the instrumentinfo str\n",
    "# print them\n",
    "\n",
    "with open('data/sample.fastq') as f:\n",
    "    for line in f:\n",
    "        if line[0] == '@':\n",
    "            metadata = line.split(' ')\n",
    "            instrument = metadata[1]\n",
    "            instrumentinfo = instrument.split(':')\n",
    "            x = instrumentinfo[3]\n",
    "            y = instrumentinfo[4]\n",
    "            print(x,y)"
   ]
  },
  {
   "cell_type": "code",
   "execution_count": 52,
   "metadata": {},
   "outputs": [],
   "source": [
    "## Now on to learning how to write\n",
    "\n",
    "# Get a 'thing' in (in this case, the list acrostic)\n",
    "# Use , open(filename.ext,'w') for the write option\n",
    "# f.write opject, '\\n' is the new line character"
   ]
  },
  {
   "cell_type": "code",
   "execution_count": 54,
   "metadata": {},
   "outputs": [],
   "source": [
    "acrostic = ['Perhaps', 'You', 'Thought', 'Hackers', 'Outnumber', 'Nerds']"
   ]
  },
  {
   "cell_type": "code",
   "execution_count": 56,
   "metadata": {},
   "outputs": [],
   "source": [
    "with open('poetry.txt', 'w') as f:\n",
    "    for word in acrostic:\n",
    "        f.write(word+'\\n')"
   ]
  },
  {
   "cell_type": "code",
   "execution_count": 58,
   "metadata": {},
   "outputs": [],
   "source": [
    "with open('poetry.txt', 'a') as f:\n",
    "    for word in acrostic:\n",
    "        f.write(word+'\\n')\n",
    "# 'a' option is append"
   ]
  },
  {
   "cell_type": "code",
   "execution_count": 59,
   "metadata": {},
   "outputs": [],
   "source": [
    "# now to try with the sequence file"
   ]
  },
  {
   "cell_type": "code",
   "execution_count": 63,
   "metadata": {},
   "outputs": [],
   "source": [
    "with open('data/metadata.tsv', 'w') as out_file:\n",
    "    header=['machine', 'lane', 'tile', 'x-coord', 'y-coord']\n",
    "    header='\\t'.join(header)\n",
    "    out_file.write(header+'\\n')\n",
    "    with open('data/sample.fastq') as in_file:\n",
    "        for line in in_file:\n",
    "            if line[0] == '@':\n",
    "                seq_data = line.split()[1]\n",
    "                parts = seq_data.split(':')\n",
    "                out_line = '\\t'.join(parts)\n",
    "                out_file.write(out_line+'\\n')"
   ]
  },
  {
   "cell_type": "code",
   "execution_count": null,
   "metadata": {},
   "outputs": [],
   "source": []
  }
 ],
 "metadata": {
  "kernelspec": {
   "display_name": "Python 3",
   "language": "python",
   "name": "python3"
  },
  "language_info": {
   "codemirror_mode": {
    "name": "ipython",
    "version": 3
   },
   "file_extension": ".py",
   "mimetype": "text/x-python",
   "name": "python",
   "nbconvert_exporter": "python",
   "pygments_lexer": "ipython3",
   "version": "3.6.5"
  }
 },
 "nbformat": 4,
 "nbformat_minor": 2
}
