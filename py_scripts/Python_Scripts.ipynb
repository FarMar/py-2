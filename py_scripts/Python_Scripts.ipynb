{
 "cells": [
  {
   "cell_type": "code",
   "execution_count": 1,
   "metadata": {},
   "outputs": [
    {
     "name": "stdout",
     "output_type": "stream",
     "text": [
      "A\n",
      "B\n",
      "C\n",
      "D\n",
      "E\n",
      "F\n",
      "G\n",
      "H\n",
      "I\n",
      "J\n",
      "K\n"
     ]
    }
   ],
   "source": [
    "for letter in 'ABCDEFGHIJK':\n",
    "    print (letter)"
   ]
  },
  {
   "cell_type": "markdown",
   "metadata": {},
   "source": [
    ".\n",
    "..\n",
    "...\n",
    "....\n",
    ".....\n",
    "......"
   ]
  },
  {
   "cell_type": "code",
   "execution_count": 6,
   "metadata": {},
   "outputs": [
    {
     "name": "stdout",
     "output_type": "stream",
     "text": [
      ". .\n"
     ]
    }
   ],
   "source": [
    "for period in '.':\n",
    "    print(period)"
   ]
  },
  {
   "cell_type": "code",
   "execution_count": 12,
   "metadata": {},
   "outputs": [
    {
     "name": "stdout",
     "output_type": "stream",
     "text": [
      ".\n",
      "..\n",
      "...\n",
      "....\n",
      ".....\n"
     ]
    }
   ],
   "source": [
    "for line in [1,2,3,4,5]:\n",
    "    print(line*'.')"
   ]
  },
  {
   "cell_type": "code",
   "execution_count": 13,
   "metadata": {},
   "outputs": [
    {
     "name": "stdout",
     "output_type": "stream",
     "text": [
      "10\n",
      "1010\n",
      "101010\n",
      "10101010\n",
      "1010101010\n"
     ]
    }
   ],
   "source": [
    "for line in [1,2,3,4,5]:\n",
    "    print(line*'10')"
   ]
  },
  {
   "cell_type": "code",
   "execution_count": 14,
   "metadata": {},
   "outputs": [
    {
     "name": "stdout",
     "output_type": "stream",
     "text": [
      "10\n",
      "20\n",
      "30\n",
      "40\n",
      "50\n"
     ]
    }
   ],
   "source": [
    "for line in [1,2,3,4,5]:\n",
    "    print(line*10)"
   ]
  },
  {
   "cell_type": "markdown",
   "metadata": {},
   "source": [
    "Now lets get to opening files"
   ]
  },
  {
   "cell_type": "code",
   "execution_count": 15,
   "metadata": {},
   "outputs": [
    {
     "name": "stdout",
     "output_type": "stream",
     "text": [
      "@SRR098032.1.1 HWI-EAS216:4:1:0:1752 length=36\n",
      "\n",
      "TAACGGTTATTCTGCGGTTGAGATTGTTGGGGCNGC\n",
      "\n",
      "+SRR098032.1.1 HWI-EAS216:4:1:0:1752 length=36\n",
      "\n",
      "B@<:?<>=;?>8</7<83<66559<44:898/%!%=\n",
      "\n",
      "@SRR098032.2.1 HWI-EAS216:4:1:0:963 length=36\n",
      "\n",
      "AGAGACATTGCCAAAGTAATTGCCAGAACAGGCNCG\n",
      "\n",
      "+SRR098032.2.1 HWI-EAS216:4:1:0:963 length=36\n",
      "\n",
      "A??49B@@@<;?;AB?;?<>>8::B9@@?7)*8!-.\n",
      "\n",
      "@SRR098032.3.1 HWI-EAS216:4:1:0:554 length=36\n",
      "\n",
      "CGCTGGCAAAGGGAAACCCGTCGCACAGCAAACNCG\n",
      "\n",
      "+SRR098032.3.1 HWI-EAS216:4:1:0:554 length=36\n",
      "\n",
      ">9;<76:BA?;68:A@>>888767?><6:<4&:!%,\n",
      "\n",
      "@SRR098032.4.1 HWI-EAS216:4:1:0:1229 length=36\n",
      "\n",
      "GTCGGCCTGCGCGGAAGATGTAACGGGGCTATCNCA\n",
      "\n",
      "+SRR098032.4.1 HWI-EAS216:4:1:0:1229 length=36\n",
      "\n",
      ";>A>A:8@;:?;C;A=<<918==><>588=1&/!51\n",
      "\n",
      "@SRR098032.5.1 HWI-EAS216:4:1:0:475 length=36\n",
      "\n",
      "CCTGAATCATAAAGCCGTTGATAACACGGTGGANCC\n",
      "\n",
      "+SRR098032.5.1 HWI-EAS216:4:1:0:475 length=36\n",
      "\n",
      "B@>7<C@:?@=B>5:97<@99@?<<=86;:;-3!+:\n",
      "\n",
      "@SRR098032.6.1 HWI-EAS216:4:1:0:834 length=36\n",
      "\n",
      "TAAAAACCGATCAAAAAGTCGTGACCCTGAGCGNGT\n",
      "\n",
      "+SRR098032.6.1 HWI-EAS216:4:1:0:834 length=36\n",
      "\n",
      "<A:<@7253:7;<<;>AB=?;629885:49/)3!+-\n",
      "\n",
      "@SRR098032.7.1 HWI-EAS216:4:1:0:1203 length=36\n",
      "\n",
      "AGTTCAGGCGGAAACGCTGGAAGCAGCGGGCACNGT\n",
      "\n",
      "+SRR098032.7.1 HWI-EAS216:4:1:0:1203 length=36\n",
      "\n",
      "=><99=:73<9;>87<3=97<984;87:9:<-4!+,\n",
      "\n",
      "@SRR098032.8.1 HWI-EAS216:4:1:0:1123 length=36\n",
      "\n",
      "CGAAGTCATTGATGGAAACATTGTTTTTTCGGGNCC\n",
      "\n",
      "+SRR098032.8.1 HWI-EAS216:4:1:0:1123 length=36\n",
      "\n",
      ">99=8<98B@@;>9;=@=8=B?7<CACB>?:(5!&*\n",
      "\n",
      "@SRR098032.9.1 HWI-EAS216:4:1:0:1642 length=36\n",
      "\n",
      "CACGTTCTTTGCCGGTCTTTGTATTGGTATTCCNCC\n",
      "\n",
      "+SRR098032.9.1 HWI-EAS216:4:1:0:1642 length=36\n",
      "\n",
      "B=8:7;5:=A:984:48=@=636==532?5,+6!,:\n",
      "\n",
      "@SRR098032.10.1 HWI-EAS216:4:1:0:603 length=36\n",
      "\n",
      "CAGTAACGTTGGCCCGATGGTCCGCGCCAGCCGNAC\n",
      "\n",
      "+SRR098032.10.1 HWI-EAS216:4:1:0:603 length=36\n",
      "\n",
      "A=1<@A5%;A9?;@;:=<6526749=8;>8953!(<\n",
      "\n",
      "@SRR098032.11.1 HWI-EAS216:4:1:0:904 length=36\n",
      "\n",
      "GATTTTTTGAAGCAATATGGTGATTTTGAAAATNGC\n",
      "\n",
      "+SRR098032.11.1 HWI-EAS216:4:1:0:904 length=36\n",
      "\n",
      "<ADEEDD?;=@=<<AB@A978:<BDD>9A?4,&!)%\n",
      "\n",
      "@SRR098032.12.1 HWI-EAS216:4:1:0:1572 length=36\n",
      "\n",
      "CTTACTGGAATCGGTGACTACGATGATCCGTGCNGC\n",
      "\n",
      "+SRR098032.12.1 HWI-EAS216:4:1:0:1572 length=36\n",
      "\n",
      "8?C;@==7:=?7:9<879=75<8@885:<=/%:!,A\n",
      "\n",
      "@SRR098032.13.1 HWI-EAS216:4:1:0:1713 length=36\n",
      "\n",
      "TTTTCGCCATTGAGTTGCGTACTGGTGTTGTCTNAC\n",
      "\n"
     ]
    }
   ],
   "source": [
    "with open('data/sample.fastq') as f:\n",
    "    for line in f:\n",
    "        print(line)"
   ]
  },
  {
   "cell_type": "code",
   "execution_count": null,
   "metadata": {},
   "outputs": [],
   "source": []
  }
 ],
 "metadata": {
  "kernelspec": {
   "display_name": "Python 3",
   "language": "python",
   "name": "python3"
  },
  "language_info": {
   "codemirror_mode": {
    "name": "ipython",
    "version": 3
   },
   "file_extension": ".py",
   "mimetype": "text/x-python",
   "name": "python",
   "nbconvert_exporter": "python",
   "pygments_lexer": "ipython3",
   "version": "3.6.5"
  }
 },
 "nbformat": 4,
 "nbformat_minor": 2
}
